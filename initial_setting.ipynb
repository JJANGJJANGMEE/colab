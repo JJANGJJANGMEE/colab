{
  "nbformat": 4,
  "nbformat_minor": 0,
  "metadata": {
    "colab": {
      "name": "initial_setting.ipynb",
      "version": "0.3.2",
      "provenance": [],
      "include_colab_link": true
    },
    "kernelspec": {
      "name": "python3",
      "display_name": "Python 3"
    },
    "accelerator": "GPU"
  },
  "cells": [
    {
      "cell_type": "markdown",
      "metadata": {
        "id": "view-in-github",
        "colab_type": "text"
      },
      "source": [
        "<a href=\"https://colab.research.google.com/github/JJANGJJANGMEE/colab/blob/master/initial_setting.ipynb\" target=\"_parent\"><img src=\"https://colab.research.google.com/assets/colab-badge.svg\" alt=\"Open In Colab\"/></a>"
      ]
    },
    {
      "cell_type": "code",
      "metadata": {
        "id": "vMsgW_JOUBPJ",
        "colab_type": "code",
        "colab": {
          "base_uri": "https://localhost:8080/",
          "height": 85
        },
        "outputId": "7e41d30d-54e1-4ade-d81c-646964a873d6"
      },
      "source": [
        "# 내 구글드라이브 'colab'에 파일 업로드하는 코드\n",
        "# https://yamalab.tistory.com/80\n",
        "!pip install -U -q PyDrive\n",
        "\n",
        "from pydrive.auth import GoogleAuth\n",
        "from pydrive.drive import GoogleDrive\n",
        "from google.colab import auth\n",
        "from oauth2client.client import GoogleCredentials\n",
        "\n",
        "# 1. Authenticate and create the PyDrive client.\n",
        "auth.authenticate_user()\n",
        "gauth = GoogleAuth()\n",
        "gauth.credentials = GoogleCredentials.get_application_default()\n",
        "drive = GoogleDrive(gauth)\n",
        "\n",
        "# PyDrive reference:\n",
        "# https://googledrive.github.io/PyDrive/docs/build/html/index.html\n",
        "\n",
        "# 2. Create & upload a file text file.\n",
        "# 특정 폴더 안으로 파일 삽입\n",
        "uploaded = drive.CreateFile({'title': 'Sample upload.txt', \"parents\": [{\"kind\": \"drive#fileLink\",\"id\": '1OG5irP0afwk6Q_saSKJjhCwgGHQAYNMU'}]})\n",
        "\n",
        "uploaded.SetContentString('Sample upload file content')\n",
        "uploaded.Upload()\n",
        "print('Uploaded file with ID {}'.format(uploaded.get('id')))\n",
        "\n",
        "# 3. Load a file by ID and print its contents.\n",
        "downloaded = drive.CreateFile({'id': uploaded.get('id')})\n",
        "print('Downloaded content \"{}\"'.format(downloaded.GetContentString()))"
      ],
      "execution_count": 1,
      "outputs": [
        {
          "output_type": "stream",
          "text": [
            "\u001b[?25l\r\u001b[K     |▎                               | 10kB 18.9MB/s eta 0:00:01\r\u001b[K     |▋                               | 20kB 2.3MB/s eta 0:00:01\r\u001b[K     |█                               | 30kB 3.3MB/s eta 0:00:01\r\u001b[K     |█▎                              | 40kB 2.2MB/s eta 0:00:01\r\u001b[K     |█▋                              | 51kB 2.7MB/s eta 0:00:01\r\u001b[K     |██                              | 61kB 3.2MB/s eta 0:00:01\r\u001b[K     |██▎                             | 71kB 3.7MB/s eta 0:00:01\r\u001b[K     |██▋                             | 81kB 4.2MB/s eta 0:00:01\r\u001b[K     |███                             | 92kB 4.6MB/s eta 0:00:01\r\u001b[K     |███▎                            | 102kB 3.6MB/s eta 0:00:01\r\u001b[K     |███▋                            | 112kB 3.6MB/s eta 0:00:01\r\u001b[K     |████                            | 122kB 3.6MB/s eta 0:00:01\r\u001b[K     |████▎                           | 133kB 3.6MB/s eta 0:00:01\r\u001b[K     |████▋                           | 143kB 3.6MB/s eta 0:00:01\r\u001b[K     |█████                           | 153kB 3.6MB/s eta 0:00:01\r\u001b[K     |█████▎                          | 163kB 3.6MB/s eta 0:00:01\r\u001b[K     |█████▋                          | 174kB 3.6MB/s eta 0:00:01\r\u001b[K     |██████                          | 184kB 3.6MB/s eta 0:00:01\r\u001b[K     |██████▎                         | 194kB 3.6MB/s eta 0:00:01\r\u001b[K     |██████▋                         | 204kB 3.6MB/s eta 0:00:01\r\u001b[K     |███████                         | 215kB 3.6MB/s eta 0:00:01\r\u001b[K     |███████▎                        | 225kB 3.6MB/s eta 0:00:01\r\u001b[K     |███████▋                        | 235kB 3.6MB/s eta 0:00:01\r\u001b[K     |████████                        | 245kB 3.6MB/s eta 0:00:01\r\u001b[K     |████████▎                       | 256kB 3.6MB/s eta 0:00:01\r\u001b[K     |████████▋                       | 266kB 3.6MB/s eta 0:00:01\r\u001b[K     |█████████                       | 276kB 3.6MB/s eta 0:00:01\r\u001b[K     |█████████▎                      | 286kB 3.6MB/s eta 0:00:01\r\u001b[K     |█████████▋                      | 296kB 3.6MB/s eta 0:00:01\r\u001b[K     |██████████                      | 307kB 3.6MB/s eta 0:00:01\r\u001b[K     |██████████▎                     | 317kB 3.6MB/s eta 0:00:01\r\u001b[K     |██████████▋                     | 327kB 3.6MB/s eta 0:00:01\r\u001b[K     |███████████                     | 337kB 3.6MB/s eta 0:00:01\r\u001b[K     |███████████▎                    | 348kB 3.6MB/s eta 0:00:01\r\u001b[K     |███████████▋                    | 358kB 3.6MB/s eta 0:00:01\r\u001b[K     |████████████                    | 368kB 3.6MB/s eta 0:00:01\r\u001b[K     |████████████▎                   | 378kB 3.6MB/s eta 0:00:01\r\u001b[K     |████████████▋                   | 389kB 3.6MB/s eta 0:00:01\r\u001b[K     |█████████████                   | 399kB 3.6MB/s eta 0:00:01\r\u001b[K     |█████████████▎                  | 409kB 3.6MB/s eta 0:00:01\r\u001b[K     |█████████████▋                  | 419kB 3.6MB/s eta 0:00:01\r\u001b[K     |██████████████                  | 430kB 3.6MB/s eta 0:00:01\r\u001b[K     |██████████████▎                 | 440kB 3.6MB/s eta 0:00:01\r\u001b[K     |██████████████▋                 | 450kB 3.6MB/s eta 0:00:01\r\u001b[K     |███████████████                 | 460kB 3.6MB/s eta 0:00:01\r\u001b[K     |███████████████▎                | 471kB 3.6MB/s eta 0:00:01\r\u001b[K     |███████████████▋                | 481kB 3.6MB/s eta 0:00:01\r\u001b[K     |████████████████                | 491kB 3.6MB/s eta 0:00:01\r\u001b[K     |████████████████▎               | 501kB 3.6MB/s eta 0:00:01\r\u001b[K     |████████████████▋               | 512kB 3.6MB/s eta 0:00:01\r\u001b[K     |█████████████████               | 522kB 3.6MB/s eta 0:00:01\r\u001b[K     |█████████████████▎              | 532kB 3.6MB/s eta 0:00:01\r\u001b[K     |█████████████████▋              | 542kB 3.6MB/s eta 0:00:01\r\u001b[K     |██████████████████              | 552kB 3.6MB/s eta 0:00:01\r\u001b[K     |██████████████████▎             | 563kB 3.6MB/s eta 0:00:01\r\u001b[K     |██████████████████▋             | 573kB 3.6MB/s eta 0:00:01\r\u001b[K     |███████████████████             | 583kB 3.6MB/s eta 0:00:01\r\u001b[K     |███████████████████▎            | 593kB 3.6MB/s eta 0:00:01\r\u001b[K     |███████████████████▋            | 604kB 3.6MB/s eta 0:00:01\r\u001b[K     |████████████████████            | 614kB 3.6MB/s eta 0:00:01\r\u001b[K     |████████████████████▎           | 624kB 3.6MB/s eta 0:00:01\r\u001b[K     |████████████████████▋           | 634kB 3.6MB/s eta 0:00:01\r\u001b[K     |█████████████████████           | 645kB 3.6MB/s eta 0:00:01\r\u001b[K     |█████████████████████▎          | 655kB 3.6MB/s eta 0:00:01\r\u001b[K     |█████████████████████▋          | 665kB 3.6MB/s eta 0:00:01\r\u001b[K     |██████████████████████          | 675kB 3.6MB/s eta 0:00:01\r\u001b[K     |██████████████████████▎         | 686kB 3.6MB/s eta 0:00:01\r\u001b[K     |██████████████████████▋         | 696kB 3.6MB/s eta 0:00:01\r\u001b[K     |███████████████████████         | 706kB 3.6MB/s eta 0:00:01\r\u001b[K     |███████████████████████▎        | 716kB 3.6MB/s eta 0:00:01\r\u001b[K     |███████████████████████▋        | 727kB 3.6MB/s eta 0:00:01\r\u001b[K     |████████████████████████        | 737kB 3.6MB/s eta 0:00:01\r\u001b[K     |████████████████████████▎       | 747kB 3.6MB/s eta 0:00:01\r\u001b[K     |████████████████████████▋       | 757kB 3.6MB/s eta 0:00:01\r\u001b[K     |████████████████████████▉       | 768kB 3.6MB/s eta 0:00:01\r\u001b[K     |█████████████████████████▏      | 778kB 3.6MB/s eta 0:00:01\r\u001b[K     |█████████████████████████▌      | 788kB 3.6MB/s eta 0:00:01\r\u001b[K     |█████████████████████████▉      | 798kB 3.6MB/s eta 0:00:01\r\u001b[K     |██████████████████████████▏     | 808kB 3.6MB/s eta 0:00:01\r\u001b[K     |██████████████████████████▌     | 819kB 3.6MB/s eta 0:00:01\r\u001b[K     |██████████████████████████▉     | 829kB 3.6MB/s eta 0:00:01\r\u001b[K     |███████████████████████████▏    | 839kB 3.6MB/s eta 0:00:01\r\u001b[K     |███████████████████████████▌    | 849kB 3.6MB/s eta 0:00:01\r\u001b[K     |███████████████████████████▉    | 860kB 3.6MB/s eta 0:00:01\r\u001b[K     |████████████████████████████▏   | 870kB 3.6MB/s eta 0:00:01\r\u001b[K     |████████████████████████████▌   | 880kB 3.6MB/s eta 0:00:01\r\u001b[K     |████████████████████████████▉   | 890kB 3.6MB/s eta 0:00:01\r\u001b[K     |█████████████████████████████▏  | 901kB 3.6MB/s eta 0:00:01\r\u001b[K     |█████████████████████████████▌  | 911kB 3.6MB/s eta 0:00:01\r\u001b[K     |█████████████████████████████▉  | 921kB 3.6MB/s eta 0:00:01\r\u001b[K     |██████████████████████████████▏ | 931kB 3.6MB/s eta 0:00:01\r\u001b[K     |██████████████████████████████▌ | 942kB 3.6MB/s eta 0:00:01\r\u001b[K     |██████████████████████████████▉ | 952kB 3.6MB/s eta 0:00:01\r\u001b[K     |███████████████████████████████▏| 962kB 3.6MB/s eta 0:00:01\r\u001b[K     |███████████████████████████████▌| 972kB 3.6MB/s eta 0:00:01\r\u001b[K     |███████████████████████████████▉| 983kB 3.6MB/s eta 0:00:01\r\u001b[K     |████████████████████████████████| 993kB 3.6MB/s \n",
            "\u001b[?25h  Building wheel for PyDrive (setup.py) ... \u001b[?25l\u001b[?25hdone\n",
            "Uploaded file with ID 1TiFtW1hwWD07WeBruwj0oT-ybgYg6-Af\n",
            "Downloaded content \"Sample upload file content\"\n"
          ],
          "name": "stdout"
        }
      ]
    },
    {
      "cell_type": "code",
      "metadata": {
        "id": "v-zxSowhUCBh",
        "colab_type": "code",
        "colab": {
          "base_uri": "https://localhost:8080/",
          "height": 462
        },
        "outputId": "804f123d-8303-4a58-c109-4c562bc8eb1c"
      },
      "source": [
        "from keras.utils import np_utils\n",
        "from keras.datasets import mnist\n",
        "from keras.models import Sequential\n",
        "from keras.layers import Dense, Activation\n",
        "\n",
        "# mnist import\n",
        "(X_train, Y_train), (X_test, Y_test) = mnist.load_data()\n",
        "\n",
        "# 0~1 사이의 값으로 정규화\n",
        "X_train = X_train.reshape(60000, 784).astype('float32') / 255.0\n",
        "X_test = X_test.reshape(10000, 784).astype('float32') / 255.0\n",
        "\n",
        "# 원핫 인코딩\n",
        "Y_train = np_utils.to_categorical(Y_train)\n",
        "Y_test = np_utils.to_categorical(Y_test)\n",
        "\n",
        "model = Sequential()\n",
        "model.add(Dense(units=64, input_dim=28*28, activation='relu'))\n",
        "model.add(Dense(units=10, activation='softmax'))\n",
        "model.compile(loss='categorical_crossentropy', optimizer='sgd', metrics=['accuracy'])\n",
        "hist = model.fit(X_train, Y_train, epochs=2, batch_size=32)\n",
        "\n",
        "loss_and_metrics = model.evaluate(X_test, Y_test, batch_size=32)\n",
        "\n",
        "print('loss_and_metrics : ' + str(loss_and_metrics))\n",
        "\n",
        "# VM local root 경로에 모델파일 저장\n",
        "\n",
        "\n",
        "model.save('mnist_mlp_model.h5')"
      ],
      "execution_count": 2,
      "outputs": [
        {
          "output_type": "stream",
          "text": [
            "Using TensorFlow backend.\n"
          ],
          "name": "stderr"
        },
        {
          "output_type": "stream",
          "text": [
            "Downloading data from https://s3.amazonaws.com/img-datasets/mnist.npz\n",
            "11493376/11490434 [==============================] - 1s 0us/step\n"
          ],
          "name": "stdout"
        },
        {
          "output_type": "stream",
          "text": [
            "WARNING: Logging before flag parsing goes to stderr.\n",
            "W0814 13:29:20.641800 140519936014208 deprecation_wrapper.py:119] From /usr/local/lib/python3.6/dist-packages/keras/backend/tensorflow_backend.py:74: The name tf.get_default_graph is deprecated. Please use tf.compat.v1.get_default_graph instead.\n",
            "\n",
            "W0814 13:29:20.677662 140519936014208 deprecation_wrapper.py:119] From /usr/local/lib/python3.6/dist-packages/keras/backend/tensorflow_backend.py:517: The name tf.placeholder is deprecated. Please use tf.compat.v1.placeholder instead.\n",
            "\n",
            "W0814 13:29:20.684895 140519936014208 deprecation_wrapper.py:119] From /usr/local/lib/python3.6/dist-packages/keras/backend/tensorflow_backend.py:4138: The name tf.random_uniform is deprecated. Please use tf.random.uniform instead.\n",
            "\n",
            "W0814 13:29:20.722000 140519936014208 deprecation_wrapper.py:119] From /usr/local/lib/python3.6/dist-packages/keras/optimizers.py:790: The name tf.train.Optimizer is deprecated. Please use tf.compat.v1.train.Optimizer instead.\n",
            "\n",
            "W0814 13:29:20.752119 140519936014208 deprecation_wrapper.py:119] From /usr/local/lib/python3.6/dist-packages/keras/backend/tensorflow_backend.py:3295: The name tf.log is deprecated. Please use tf.math.log instead.\n",
            "\n",
            "W0814 13:29:20.895778 140519936014208 deprecation.py:323] From /usr/local/lib/python3.6/dist-packages/tensorflow/python/ops/math_grad.py:1250: add_dispatch_support.<locals>.wrapper (from tensorflow.python.ops.array_ops) is deprecated and will be removed in a future version.\n",
            "Instructions for updating:\n",
            "Use tf.where in 2.0, which has the same broadcast rule as np.where\n",
            "W0814 13:29:20.960880 140519936014208 deprecation_wrapper.py:119] From /usr/local/lib/python3.6/dist-packages/keras/backend/tensorflow_backend.py:986: The name tf.assign_add is deprecated. Please use tf.compat.v1.assign_add instead.\n",
            "\n"
          ],
          "name": "stderr"
        },
        {
          "output_type": "stream",
          "text": [
            "Epoch 1/2\n",
            "60000/60000 [==============================] - 11s 176us/step - loss: 0.6755 - acc: 0.8281\n",
            "Epoch 2/2\n",
            "60000/60000 [==============================] - 7s 111us/step - loss: 0.3408 - acc: 0.9047\n",
            "10000/10000 [==============================] - 1s 50us/step\n",
            "loss_and_metrics : [0.2962340651333332, 0.9174]\n"
          ],
          "name": "stdout"
        }
      ]
    },
    {
      "cell_type": "code",
      "metadata": {
        "id": "g3HyXfUvUiZi",
        "colab_type": "code",
        "colab": {
          "base_uri": "https://localhost:8080/",
          "height": 510
        },
        "outputId": "6b34e034-2c00-4cd3-b9eb-e7d0f9dfe003"
      },
      "source": [
        "# 1. Authenticate and create the PyDrive client.\n",
        "\n",
        "auth.authenticate_user()\n",
        "gauth = GoogleAuth()\n",
        "gauth.credentials = GoogleCredentials.get_application_default()\n",
        "drive = GoogleDrive(gauth)\n",
        "\n",
        "# PyDrive reference:\n",
        "# https://googledrive.github.io/PyDrive/docs/build/html/index.html\n",
        "\n",
        "# 2. Create & upload a file text file.\n",
        "# 특정 폴더 안으로 파일 삽입\n",
        "uploaded = drive.CreateFile({'title': 'mnist_mlp_model.h5', \"parents\": [{\"kind\": \"drive#fileLink\",\"id\": '1OG5irP0afwk6Q_saSKJjhCwgGHQAYNMU'}]})\n",
        "uploaded.SetContentString('Sample upload file content')\n",
        "uploaded.SetContentFile('mnist_mlp_model.h5')\n",
        "uploaded.Upload()\n",
        "print('Uploaded file with ID {}'.format(uploaded.get('id')))\n",
        "\n",
        "# 3. Load a file by ID and print its contents.\n",
        "downloaded = drive.CreateFile({'id': uploaded.get('id')})"
      ],
      "execution_count": 6,
      "outputs": [
        {
          "output_type": "stream",
          "text": [
            "W0814 13:42:47.283297 140519936014208 __init__.py:44] file_cache is unavailable when using oauth2client >= 4.0.0 or google-auth\n",
            "Traceback (most recent call last):\n",
            "  File \"/usr/local/lib/python3.6/dist-packages/googleapiclient/discovery_cache/__init__.py\", line 36, in autodetect\n",
            "    from google.appengine.api import memcache\n",
            "ModuleNotFoundError: No module named 'google.appengine'\n",
            "\n",
            "During handling of the above exception, another exception occurred:\n",
            "\n",
            "Traceback (most recent call last):\n",
            "  File \"/usr/local/lib/python3.6/dist-packages/googleapiclient/discovery_cache/file_cache.py\", line 33, in <module>\n",
            "    from oauth2client.contrib.locked_file import LockedFile\n",
            "ModuleNotFoundError: No module named 'oauth2client.contrib.locked_file'\n",
            "\n",
            "During handling of the above exception, another exception occurred:\n",
            "\n",
            "Traceback (most recent call last):\n",
            "  File \"/usr/local/lib/python3.6/dist-packages/googleapiclient/discovery_cache/file_cache.py\", line 37, in <module>\n",
            "    from oauth2client.locked_file import LockedFile\n",
            "ModuleNotFoundError: No module named 'oauth2client.locked_file'\n",
            "\n",
            "During handling of the above exception, another exception occurred:\n",
            "\n",
            "Traceback (most recent call last):\n",
            "  File \"/usr/local/lib/python3.6/dist-packages/googleapiclient/discovery_cache/__init__.py\", line 41, in autodetect\n",
            "    from . import file_cache\n",
            "  File \"/usr/local/lib/python3.6/dist-packages/googleapiclient/discovery_cache/file_cache.py\", line 41, in <module>\n",
            "    'file_cache is unavailable when using oauth2client >= 4.0.0 or google-auth')\n",
            "ImportError: file_cache is unavailable when using oauth2client >= 4.0.0 or google-auth\n"
          ],
          "name": "stderr"
        },
        {
          "output_type": "stream",
          "text": [
            "Uploaded file with ID 18-GHGeW-CPTTgeX5UbygW9DCeomghUZA\n"
          ],
          "name": "stdout"
        }
      ]
    }
  ]
}